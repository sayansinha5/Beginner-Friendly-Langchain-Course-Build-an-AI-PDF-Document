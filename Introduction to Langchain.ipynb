{
 "cells": [
  {
   "cell_type": "code",
   "execution_count": 1,
   "id": "d04bc221",
   "metadata": {},
   "outputs": [],
   "source": [
    "# !pip install langchain\n",
    "# !pip install langchain-openai"
   ]
  },
  {
   "cell_type": "code",
   "execution_count": 2,
   "id": "c60caaeb",
   "metadata": {},
   "outputs": [],
   "source": [
    "import langchain\n",
    "from langchain_openai import OpenAI\n",
    "import os"
   ]
  },
  {
   "cell_type": "code",
   "execution_count": 3,
   "id": "5d4616c6",
   "metadata": {},
   "outputs": [],
   "source": [
    "os.environ['OPENAI_API_KEY'] = ''"
   ]
  },
  {
   "cell_type": "code",
   "execution_count": 4,
   "id": "56c13be3",
   "metadata": {},
   "outputs": [],
   "source": [
    "llm = OpenAI()"
   ]
  },
  {
   "cell_type": "code",
   "execution_count": 5,
   "id": "9a10054a",
   "metadata": {},
   "outputs": [],
   "source": [
    "text = \"Who is Donald Trump. Explain a poem\""
   ]
  },
  {
   "cell_type": "code",
   "execution_count": 6,
   "id": "2f1d5b3b",
   "metadata": {},
   "outputs": [
    {
     "name": "stdout",
     "output_type": "stream",
     "text": [
      "\n",
      "\n",
      "Donald Trump is a businessman, television personality, and the 45th President of the United States. He was born on June 14, 1946, in New York City. Trump is known for his controversial statements and policies, as well as his success in the real estate and entertainment industries.\n",
      "\n",
      "A poem is a piece of literature that uses language and imagery to evoke emotion and convey a message or idea. It can be written in various forms, such as free verse, sonnet, or haiku. Poems often use literary devices such as metaphor, simile, and personification to create meaning and impact.\n",
      "\n",
      "Just like Trump, a poem can be bold, divisive, and powerful. It can capture the attention of its audience and leave a lasting impression. However, unlike Trump's often divisive rhetoric, a poem has the ability to bring people together and promote empathy and understanding.\n",
      "\n",
      "A poem can also be interpreted in different ways by different people, just like how Trump's actions and words are perceived differently by different individuals.\n",
      "\n",
      "Overall, while Trump and a poem may seem like two very different things, they both have the ability to make an impact and leave a mark on the world. \n"
     ]
    }
   ],
   "source": [
    "print(llm.invoke(text))"
   ]
  }
 ],
 "metadata": {
  "kernelspec": {
   "display_name": "Python 3 (ipykernel)",
   "language": "python",
   "name": "python3"
  },
  "language_info": {
   "codemirror_mode": {
    "name": "ipython",
    "version": 3
   },
   "file_extension": ".py",
   "mimetype": "text/x-python",
   "name": "python",
   "nbconvert_exporter": "python",
   "pygments_lexer": "ipython3",
   "version": "3.11.5"
  }
 },
 "nbformat": 4,
 "nbformat_minor": 5
}
